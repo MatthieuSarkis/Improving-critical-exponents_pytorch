{
 "cells": [
  {
   "cell_type": "code",
   "execution_count": null,
   "metadata": {},
   "outputs": [],
   "source": [
    "from google.colab import drive\n",
    "drive.mount('/content/drive')"
   ]
  },
  {
   "cell_type": "code",
   "execution_count": null,
   "metadata": {},
   "outputs": [],
   "source": [
    "import os\n",
    "os.chdir('/content/drive/My Drive/Improving-critical-exponents_pytorch/')"
   ]
  },
  {
   "cell_type": "code",
   "execution_count": null,
   "metadata": {},
   "outputs": [],
   "source": [
    "import torch\n",
    "\n",
    "from src.cnn.train import main as main_cnn\n",
    "from src.generator.train import main as main_gen"
   ]
  },
  {
   "cell_type": "code",
   "execution_count": null,
   "metadata": {},
   "outputs": [],
   "source": [
    "device = 'cuda' if torch.cuda.is_available() else 'cpu'\n",
    "\n",
    "print(device)"
   ]
  },
  {
   "cell_type": "code",
   "execution_count": null,
   "metadata": {},
   "outputs": [],
   "source": [
    "class objectview(object):\n",
    "    def __init__(self, d):\n",
    "        self.__dict__ = d"
   ]
  },
  {
   "cell_type": "code",
   "execution_count": null,
   "metadata": {},
   "outputs": [],
   "source": [
    "args_cnn = {\n",
    "    'save_dir': './saved_models/cnn_regression',\n",
    "    'lattice_size': 128,\n",
    "    'dataset_size': 50,\n",
    "    'epochs': 2,\n",
    "    'batch_size': 5,\n",
    "    'dropout_rate': 0.0,\n",
    "    'learning_rate': 10e-4,\n",
    "    'device' : device,\n",
    "    'set_lr_scheduler': True,\n",
    "    'save_model': True,\n",
    "    'save_checkpoints': False,\n",
    "    'set_save_args': False,\n",
    "    'dump_loss': True,\n",
    "}\n",
    "        \n",
    "args_cnn = objectview(args_cnn)"
   ]
  },
  {
   "cell_type": "code",
   "execution_count": null,
   "metadata": {},
   "outputs": [],
   "source": [
    "main_cnn(args_cnn)"
   ]
  },
  {
   "cell_type": "code",
   "execution_count": null,
   "metadata": {},
   "outputs": [],
   "source": [
    "args_gen = {\n",
    "    'save_dir': './saved_models/gan_cnn_regression',\n",
    "    'epochs': 10,\n",
    "    'batch_size': 5,\n",
    "    'learning_rate': 10e-3,\n",
    "    'device' : device,\n",
    "    'bins_number': 100,\n",
    "    'noise_dim': 100,\n",
    "    'ckpt_freq': 10,\n",
    "    'CNN_model_path': '../saved_models/cnn_regression/2021.10.17.18.29.07/model/final_model.pt',\n",
    "    'set_generate_plots': False,\n",
    "}\n",
    "\n",
    "args_gen = objectview(args_gen)"
   ]
  },
  {
   "cell_type": "code",
   "execution_count": null,
   "metadata": {},
   "outputs": [],
   "source": [
    "main_gen(args_gen)"
   ]
  },
  {
   "cell_type": "code",
   "execution_count": null,
   "metadata": {},
   "outputs": [],
   "source": []
  }
 ],
 "metadata": {
  "interpreter": {
   "hash": "02af5fb4f37fb4f74599476519c819276c2b23a2166f1a812e9bba273c63aaf6"
  },
  "kernelspec": {
   "display_name": "Python 3.9.7 64-bit ('.env': venv)",
   "name": "python3"
  },
  "language_info": {
   "codemirror_mode": {
    "name": "ipython",
    "version": 3
   },
   "file_extension": ".py",
   "mimetype": "text/x-python",
   "name": "python",
   "nbconvert_exporter": "python",
   "pygments_lexer": "ipython3",
   "version": "3.9.7"
  },
  "orig_nbformat": 4
 },
 "nbformat": 4,
 "nbformat_minor": 2
}
