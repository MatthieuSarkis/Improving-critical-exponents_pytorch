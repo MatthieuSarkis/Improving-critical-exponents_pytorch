{
 "cells": [
  {
   "cell_type": "code",
   "execution_count": 1,
   "metadata": {},
   "outputs": [],
   "source": [
    "import numpy as np\n",
    "\n",
    "x = np.load('./generated_data/2022.05.13.23.39.28/fake_L=128_p=0.5928_#1.npy')"
   ]
  },
  {
   "cell_type": "code",
   "execution_count": 4,
   "metadata": {},
   "outputs": [
    {
     "data": {
      "text/plain": [
       "array([[1, 1, 0, ..., 0, 1, 0],\n",
       "       [0, 0, 1, ..., 1, 1, 1],\n",
       "       [0, 1, 0, ..., 0, 0, 1],\n",
       "       ...,\n",
       "       [1, 1, 1, ..., 0, 0, 0],\n",
       "       [1, 1, 1, ..., 1, 1, 0],\n",
       "       [0, 0, 1, ..., 1, 0, 0]], dtype=int8)"
      ]
     },
     "execution_count": 4,
     "metadata": {},
     "output_type": "execute_result"
    }
   ],
   "source": [
    "x"
   ]
  },
  {
   "cell_type": "code",
<<<<<<< HEAD
   "execution_count": 1,
   "metadata": {},
   "outputs": [],
   "source": [
    "import numpy as np"
=======
   "execution_count": 3,
   "metadata": {},
   "outputs": [
    {
     "data": {
      "text/plain": [
       "4"
      ]
     },
     "execution_count": 3,
     "metadata": {},
     "output_type": "execute_result"
    }
   ],
   "source": [
    "import numpy as np\n",
    "\n",
    "np.random.randint(5)"
   ]
  },
  {
   "cell_type": "code",
   "execution_count": 15,
   "metadata": {},
   "outputs": [],
   "source": [
    "import numpy as np\n",
    "import torch\n",
    "\n",
    "with open('./data/ising/L={}/T={:.4f}.bin'.format(128, 2.2692), 'rb') as f:\n",
    "    real_image = torch.frombuffer(buffer=f.read(), dtype=torch.int8, offset=0).reshape(-1, 1, 128, 128)\n",
    "    idx = np.random.randint(real_image.shape[0])\n",
    "    real_image = real_image[idx: idx+1].type(torch.float32)\n",
    "\n",
    "    real_image = ((real_image + 1) / 2).type(torch.int8)"
   ]
  },
  {
   "cell_type": "code",
   "execution_count": 17,
   "metadata": {},
   "outputs": [],
   "source": [
    "from src.data_factory.percolation import generate_percolation_data\n",
    "\n",
    "real_image, _ = generate_percolation_data(\n",
    "    dataset_size=1,\n",
    "    lattice_size=128,\n",
    "    p_list=[0.5928],\n",
    "    split=False\n",
    ")"
>>>>>>> 2616cad023ed6af0eb9d9877957c0f07eaa67640
   ]
  },
  {
   "cell_type": "code",
<<<<<<< HEAD
   "execution_count": 7,
=======
   "execution_count": 18,
>>>>>>> 2616cad023ed6af0eb9d9877957c0f07eaa67640
   "metadata": {},
   "outputs": [
    {
     "data": {
      "text/plain": [
<<<<<<< HEAD
       "(64, 64)"
      ]
     },
     "execution_count": 7,
=======
       "torch.Size([1, 1, 128, 128])"
      ]
     },
     "execution_count": 18,
>>>>>>> 2616cad023ed6af0eb9d9877957c0f07eaa67640
     "metadata": {},
     "output_type": "execute_result"
    }
   ],
   "source": [
<<<<<<< HEAD
    "np.load('./generated_data/model_progan_L=64/real/real_L=64_p=0.5928_#1.npy').shape"
=======
    "real_image.shape"
>>>>>>> 2616cad023ed6af0eb9d9877957c0f07eaa67640
   ]
  },
  {
   "cell_type": "code",
   "execution_count": null,
   "metadata": {},
   "outputs": [],
   "source": []
  }
 ],
 "metadata": {
  "kernelspec": {
   "display_name": "Python 3.8.10 ('.env': venv)",
   "language": "python",
   "name": "python3"
  },
  "language_info": {
   "codemirror_mode": {
    "name": "ipython",
    "version": 3
   },
   "file_extension": ".py",
   "mimetype": "text/x-python",
   "name": "python",
   "nbconvert_exporter": "python",
   "pygments_lexer": "ipython3",
   "version": "3.8.10"
  },
  "orig_nbformat": 4,
  "vscode": {
   "interpreter": {
    "hash": "db83b173432a03da4f0c4835ccb6a68bd4760b75965e2dad19ac873e39f9ccbd"
   }
  }
 },
 "nbformat": 4,
 "nbformat_minor": 2
}
