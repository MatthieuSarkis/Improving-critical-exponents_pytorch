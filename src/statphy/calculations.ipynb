{
 "cells": [
  {
   "cell_type": "markdown",
   "metadata": {},
   "source": [
    "## Initial Parameters"
   ]
  },
  {
   "cell_type": "code",
   "execution_count": 1,
   "metadata": {},
   "outputs": [],
   "source": [
    "INPUT_DIR = '../../data/generated_data/model_progan_2022.05.13.13.43.18'\n",
    "p = 0.5928\n",
    "L = 128"
   ]
  },
  {
   "cell_type": "code",
   "execution_count": 2,
   "metadata": {},
   "outputs": [
    {
     "data": {
      "text/plain": [
       "<module 'geometric_measure' from '/Users/ebi/Desktop/Sims/Git/Improving-critical-exponents_pytorch/src/statphy/geometric_measure.py'>"
      ]
     },
     "execution_count": 2,
     "metadata": {},
     "output_type": "execute_result"
    }
   ],
   "source": [
    "import os\n",
    "import glob\n",
    "import numpy as np\n",
    "import geometric_measure\n",
    "import matplotlib.pyplot as plt\n",
    "\n",
    "if not os.path.exists(INPUT_DIR):\n",
    "    print('There is no such path:', INPUT_DIR)\n",
    "filelist = glob.glob(INPUT_DIR + '/' + f'fake_L={L}_p={p}_*.npy')\n",
    "\n",
    "import importlib\n",
    "importlib.reload(geometric_measure)   "
   ]
  },
  {
   "cell_type": "markdown",
   "metadata": {},
   "source": [
    "## Read/Create Input Data"
   ]
  },
  {
   "cell_type": "code",
   "execution_count": 3,
   "metadata": {},
   "outputs": [],
   "source": [
    "n_samples = 10000\n",
    "#imgs = [np.load(path) for path in filelist[:n_samples]]\n",
    "np.random.seed(72)\n",
    "imgs = [ (np.random.random(size=(L,L)) < p).astype(int) for i in range(n_samples) ]"
   ]
  },
  {
   "cell_type": "markdown",
   "metadata": {},
   "source": [
    "## Clustering the Input Images"
   ]
  },
  {
   "cell_type": "code",
   "execution_count": 140,
   "metadata": {},
   "outputs": [],
   "source": [
    "def plot_imgs_labels(imgs, labels, outfilename):\n",
    "    nrows = len(imgs)\n",
    "    plt.figure(figsize=(2*5, nrows*5))\n",
    "    plt.subplots_adjust(wspace=0, hspace=0.01)\n",
    "    \n",
    "\n",
    "    for i, img in enumerate(imgs):\n",
    "        plt.subplot(nrows, 2, 2*i + 1)\n",
    "        plt.imshow(img, cmap='Greys',)\n",
    "        plt.axis('off')\n",
    "        plt.subplot(nrows, 2, 2*i + 2)\n",
    "        label = labels[i]\n",
    "        plt.imshow(label,)\n",
    "        plt.axis('off')\n",
    "    plt.savefig(outfilename, pad_inches=0.05, bbox_inches='tight') #\n",
    "\n",
    "# now plot some samples\n",
    "labels, nums = geometric_measure.clustering(imgs, lower_size=5)\n",
    "plot_imgs_labels(imgs, labels, outfilename='real.pdf')"
   ]
  },
  {
   "cell_type": "markdown",
   "metadata": {},
   "source": [
    "## Part doing Statistics"
   ]
  },
  {
   "cell_type": "code",
   "execution_count": 6,
   "metadata": {},
   "outputs": [
    {
     "name": "stderr",
     "output_type": "stream",
     "text": [
      "100%|██████████| 1000/1000 [01:22<00:00, 12.05it/s]\n"
     ]
    }
   ],
   "source": [
    "n_samples = 1000\n",
    "np.random.seed(72)\n",
    "imgs = [ (np.random.random(size=(L,L)) < p).astype(int) for i in range(n_samples) ]\n",
    "\n",
    "# get the mesures related to the configurations\n",
    "measure_real = geometric_measure.get_measure(imgs)\n",
    "# get the statistics of measures\n",
    "stat_real = geometric_measure.measure_statistics(measure_real, nbins_for_ns=43)"
   ]
  },
  {
   "cell_type": "code",
   "execution_count": 22,
   "metadata": {},
   "outputs": [
    {
     "name": "stdout",
     "output_type": "stream",
     "text": [
      "1.0\n"
     ]
    },
    {
     "data": {
      "text/plain": [
       "Text(0, 0.5, '$n(s)$')"
      ]
     },
     "execution_count": 22,
     "metadata": {},
     "output_type": "execute_result"
    },
    {
     "data": {
      "image/png": "[encoded data removed]",
      "text/plain": [
       "<Figure size 432x288 with 1 Axes>"
      ]
     },
     "metadata": {
      "needs_background": "light"
     },
     "output_type": "display_data"
    }
   ],
   "source": [
    "ns = stat_real['ns']\n",
    "x, y, dx = ns['bin_centers'], ns['hist'], ns['bin_sizes']\n",
    "plt.loglog(x, y, ls='', marker='o')\n",
    "print(np.sum(y*dx))\n",
    "\n",
    "# plot slope\n",
    "#xn\n",
    "plt.xlabel('$s$', fontsize=16)\n",
    "plt.ylabel('$n(s)$', fontsize=16)"
   ]
  },
  {
   "cell_type": "code",
   "execution_count": null,
   "metadata": {},
   "outputs": [],
   "source": []
  }
 ],
 "metadata": {
  "interpreter": {
   "hash": "6deb0423a57205bb455913897bf111f0339ab1b2032cff987760d2f42abf5f76"
  },
  "kernelspec": {
   "display_name": "Python 3.9.7 ('snow')",
   "language": "python",
   "name": "python3"
  },
  "language_info": {
   "codemirror_mode": {
    "name": "ipython",
    "version": 3
   },
   "file_extension": ".py",
   "mimetype": "text/x-python",
   "name": "python",
   "nbconvert_exporter": "python",
   "pygments_lexer": "ipython3",
   "version": "3.9.7"
  },
  "orig_nbformat": 4
 },
 "nbformat": 4,
 "nbformat_minor": 2
}
