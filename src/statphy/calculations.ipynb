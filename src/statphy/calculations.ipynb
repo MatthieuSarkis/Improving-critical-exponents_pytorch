{
 "cells": [
  {
   "cell_type": "markdown",
   "metadata": {},
   "source": [
    "## Initial Parameters"
   ]
  },
  {
   "cell_type": "code",
   "execution_count": 1,
   "metadata": {},
   "outputs": [],
   "source": [
    "INPUT_DIR = '../../data/generated_data/model_progan_2022.05.13.13.43.18'\n",
    "p = 0.5928\n",
    "L = 128"
   ]
  },
  {
   "cell_type": "code",
   "execution_count": 2,
   "metadata": {
    "vscode": {
     "languageId": "markdown"
    }
   },
   "outputs": [
    {
     "data": {
      "text/plain": [
       "<module 'geometric_measure' from '/Users/ebi/Desktop/Sims/Git/Improving-critical-exponents_pytorch/src/statphy/geometric_measure.py'>"
      ]
     },
     "execution_count": 2,
     "metadata": {},
     "output_type": "execute_result"
    }
   ],
   "source": [
    "import os\n",
    "import glob\n",
    "import numpy as np\n",
    "import geometric_measure\n",
    "import matplotlib.pyplot as plt\n",
    "\n",
    "if not os.path.exists(INPUT_DIR):\n",
    "    print('There is no such path:', INPUT_DIR)\n",
    "filelist = glob.glob(INPUT_DIR + '/' + f'fake_L={L}_p={p}_*.npy')\n",
    "\n",
    "import importlib\n",
    "importlib.reload(geometric_measure)   "
   ]
  },
  {
   "cell_type": "markdown",
   "metadata": {},
   "source": [
    "## Read/Create Input Data"
   ]
  },
  {
   "cell_type": "code",
   "execution_count": 3,
   "metadata": {},
   "outputs": [],
   "source": [
    "n_samples = 10000\n",
    "# imgs = [np.load(path) for path in filelist[:n_samples]]\n",
    "np.random.seed(72)\n",
    "imgs = [ (np.random.random(size=(L,L)) < p).astype(int) for i in range(n_samples) ]"
   ]
  },
  {
   "cell_type": "markdown",
   "metadata": {},
   "source": [
    "## Clustering the Input Images"
   ]
  },
  {
   "cell_type": "code",
   "execution_count": 140,
   "metadata": {},
   "outputs": [],
   "source": [
    "def plot_imgs_labels(imgs, labels, outfilename):\n",
    "    nrows = len(imgs)\n",
    "    plt.figure(figsize=(2*5, nrows*5))\n",
    "    plt.subplots_adjust(wspace=0, hspace=0.01)\n",
    "    \n",
    "    for i, img in enumerate(imgs):\n",
    "        plt.subplot(nrows, 2, 2*i + 1)\n",
    "        plt.imshow(img, cmap='Greys',)\n",
    "        plt.axis('off')\n",
    "        plt.subplot(nrows, 2, 2*i + 2)\n",
    "        label = labels[i]\n",
    "        plt.imshow(label,)\n",
    "        plt.axis('off')\n",
    "    plt.savefig(outfilename, pad_inches=0.05, bbox_inches='tight') #\n",
    "\n",
    "# now plot some samples\n",
    "labels, nums = geometric_measure.clustering(imgs[:1], lower_size=5)\n",
    "plot_imgs_labels(imgs[:1], labels, outfilename='real.pdf')"
   ]
  },
  {
   "cell_type": "markdown",
   "metadata": {},
   "source": [
    "# Statistics"
   ]
  },
  {
   "cell_type": "code",
   "execution_count": null,
   "metadata": {},
   "outputs": [],
   "source": [
    "import fit \n",
    "def logplotXY(plt, x, y, xlabel, ylabel):\n",
    "    plt.loglog(x, y, ls='', marker='o', fillstyle='none',\n",
    "               label = 'sim')\n",
    "\n",
    "    # plot slope\n",
    "    indx = (x > 10) & (x <= 1e3)\n",
    "    x, y = x[indx], y[indx]\n",
    "    expo, c, expo_err, c_err = fit.loglog_slope(x, y)\n",
    "    xn = np.logspace(np.log10(x[0]), np.log10(x[-1]))\n",
    "    yn = c * xn ** expo\n",
    "    plt.loglog(xn, yn, color='k',\n",
    "               label = fr'$\\tau={-expo:.2f} \\pm {expo_err:.2f}$'  )\n",
    "\n",
    "    if xlabel:\n",
    "        plt.xlabel('$s$', fontsize=16)\n",
    "    if ylabel:\n",
    "        plt.ylabel('$n(s)$', fontsize=16)"
   ]
  },
  {
   "cell_type": "markdown",
   "metadata": {},
   "source": [
    "## Real images"
   ]
  },
  {
   "cell_type": "code",
   "execution_count": 6,
   "metadata": {
    "vscode": {
     "languageId": "markdown"
    }
   },
   "outputs": [
    {
     "name": "stderr",
     "output_type": "stream",
     "text": [
      "100%|██████████| 1000/1000 [01:22<00:00, 12.05it/s]\n"
     ]
    }
   ],
   "source": [
    "n_samples = 1000\n",
    "np.random.seed(72)\n",
    "imgs = [ (np.random.random(size=(L,L)) < p).astype(int) for i in range(n_samples) ]\n",
    "\n",
    "# get the mesures related to the configurations\n",
    "measure_real = geometric_measure.get_measure(imgs)\n",
    "# get the statistics of measures\n",
    "stat_real = geometric_measure.measure_statistics(measure_real, nbins_for_ns=43)"
   ]
  },
  {
   "cell_type": "code",
   "execution_count": 34,
   "metadata": {},
   "outputs": [
    {
     "data": {
      "image/png": "[encoded data removed]",
      "text/plain": [
       "<Figure size 432x288 with 1 Axes>"
      ]
     },
     "metadata": {
      "needs_background": "light"
     },
     "output_type": "display_data"
    }
   ],
   "source": [
    "\n",
    "ns = stat_real['ns']\n",
    "x, y, dx = ns['bin_centers'], ns['hist'], ns['bin_sizes']\n",
    "logplot_dataXY(plt, x, y, '$s$', '$n(s)$')"
   ]
  },
  {
   "cell_type": "markdown",
   "metadata": {},
   "source": [
    "## Fake images"
   ]
  },
  {
   "cell_type": "code",
   "execution_count": 35,
   "metadata": {},
   "outputs": [
    {
     "name": "stderr",
     "output_type": "stream",
     "text": [
      "100%|██████████| 1000/1000 [01:28<00:00, 11.25it/s]\n"
     ]
    }
   ],
   "source": [
    "n_samples = 1000\n",
    "imgs = [np.load(path) for path in filelist[:n_samples]]\n",
    "measure_fake = geometric_measure.get_measure(imgs)\n",
    "stat_fake = geometric_measure.measure_statistics(measure_fake, nbins_for_ns=43)"
   ]
  },
  {
   "cell_type": "code",
   "execution_count": null,
   "metadata": {},
   "outputs": [],
   "source": []
  }
 ],
 "metadata": {
  "interpreter": {
   "hash": "6deb0423a57205bb455913897bf111f0339ab1b2032cff987760d2f42abf5f76"
  },
  "kernelspec": {
   "display_name": "Python 3.9.7 ('snow')",
   "language": "python",
   "name": "python3"
  },
  "language_info": {
   "codemirror_mode": {
    "name": "ipython",
    "version": 3
   },
   "file_extension": ".py",
   "mimetype": "text/x-python",
   "name": "python",
   "nbconvert_exporter": "python",
   "pygments_lexer": "ipython3",
   "version": "3.9.7"
  },
  "orig_nbformat": 4
 },
 "nbformat": 4,
 "nbformat_minor": 2
}
